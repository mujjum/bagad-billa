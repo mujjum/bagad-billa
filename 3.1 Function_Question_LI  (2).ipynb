{
 "cells": [
  {
   "cell_type": "markdown",
   "metadata": {
    "id": "wwHIZN9H0Nko"
   },
   "source": [
    "Homework:\n",
    "\n",
    "1. Write a function to check if a number is even or odd.\n",
    "1. Write a function to return all the factors of a number.\n",
    "\n",
    "2. Write a function to generate a random number.\n",
    "\n",
    "3. Write a function to find the largest number among a given series of numbers.\n",
    "\n",
    "4. Write a function to calculate the product of 'n' natural numbers where 'n' is user input.\n",
    "\n",
    "5. Write a function to format user input which is Full Name. For example, if the user input is \"joe biden\". The function should change the string to \"Joe Biden\" and return it.\n",
    "6. Write a function that prints all the prime numbers between 0 and limit where limit is a parameter.\n",
    "\n",
    "7. Python program to calculate currency notes required to get the amount\n",
    "\n",
    "8. Python program for Zip, Zap and Zoom game \n",
    " >Write a function called fizz_buzz that takes a number. If the number is divisible by 3, it should return “Fizz”. If it is divisible by 5, it should return “Buzz”. If it is divisible by both 3 and 5, it should return “FizzBuzz”. Otherwise, it should return the same number.\n",
    "\n",
    " > or \n",
    " \n",
    " > Write a python program that displays a message as follows for a given number:\n",
    " * If it is a multiple of three, display \"Zip\".\n",
    " * If it is a multiple of five, display \"Zap\".\n",
    " * If it is a multiple of both three and five, display \"Zoom\".\n",
    " * If it does not satisfy any of the above given conditions, display \"Invalid\".\n",
    "\n"
   ]
  },
  {
   "cell_type": "markdown",
   "metadata": {
    "id": "Xd7e_0VSnzll"
   },
   "source": [
    "# Questions: \n",
    "\n",
    "1. Write a function that returns the maximum of two numbers.\n",
    "\n",
    "3. Write a function for checking the speed of drivers. This function should have one parameter: speed.\n",
    " * If speed is less than 70, it should print “Ok”.\n",
    "Otherwise, for every 5km above the speed limit (70), it should give the driver one demerit point and print the total number of demerit points.   \n",
    " * For example, if the speed is 80, it should print: “Points: 2”.\n",
    "If the driver gets more than 12 points, the function should print: “License suspended”\n",
    "4. Write a function called showNumbers that takes a parameter called limit. It should print all the numbers between 0 and limit with a label to identify the even and odd numbers. For example, if the limit is 3, it should print:\n",
    "0 EVEN\n",
    "1 ODD\n",
    "2 EVEN\n",
    "3 ODD\n",
    "5. Write a function that returns the sum of multiples of 3 and 5 between 0 and limit (parameter). For example, if limit is 20, it should return the sum of 3, 5, 6, 9, 10, 12, 15, 18, 20.\n",
    "6. Write a function called show_stars(rows). If rows is 5, it should print the following:\n",
    "\n",
    "```\n",
    "*\n",
    "**\n",
    "***\n",
    "****\n",
    "*****\n",
    "```\n",
    "\n",
    "7. Write a function to calculate the bill of a list of items purchased. The bill must also include a GST of 18%. Execute the function for 2 customers.\n",
    "For example, John purchased the following items:\n",
    "Eggs - 40 rupees, Cereals - 120 rupees, Honey - 150 rupees, Fruit Juice - 100 rupees,Sanitizer - 80 rupees\n",
    "The bill must be as follows:\n",
    " * Customer name - John\n",
    " * Eggs - 40 rupees\n",
    " * Cereals - 120 rupees\n",
    " * Honey - 150 rupees\n",
    " * Fruit Juice - 100 rupees\n",
    " * Sanitizer - 80 rupees\n",
    " * Total - 490 rupees\n",
    " * GST Amount - 88.2 rupees\n",
    " * Total including GST - 578.2 rupees\n",
    "\n",
    "(You can make changes to make the output look like a proper bill)\n",
    "\n",
    "\n",
    "\n",
    "8. Python program to calculate discount based on selling price\n",
    "> The discount will be calculated as,\n",
    " * If the order amount is greater than 100000 is 20%.\n",
    " * If the order amount is greater than 50000 and smaller than 100000 is 10%.\n",
    " * If the order amount is smaller than 50000 is 5%.\n",
    "\n",
    "9. Assign a different name to function and call it through the new name\n",
    " * Below is the function displayStudent(name, age). Assign a new name showStudent(name, age) to it and call through the new name \n",
    "\n",
    "\n"
   ]
  },
  {
   "cell_type": "markdown",
   "metadata": {
    "id": "mZo0DZY3WoFD"
   },
   "source": [
    "\n",
    "\n",
    "\n",
    "\n",
    "\n",
    "\n",
    "\n"
   ]
  },
  {
   "cell_type": "code",
   "execution_count": null,
   "metadata": {
    "id": "zjPgwhfUWz3E"
   },
   "outputs": [],
   "source": [
    "# Python program for Zip, Zap and Zoom gam\n",
    "\n",
    "# Define a function for printing particular messages\n",
    "def display(Num):\n",
    "    \n",
    "    if Num % 3 == 0 and Num % 5 == 0 :\n",
    "        print(\"Zoom\")\n",
    "        \n",
    "    elif Num % 3 == 0 :\n",
    "        print(\"Zip\")\n",
    "    \n",
    "    elif Num % 5 == 0 :\n",
    "        print(\"Zap\")\n",
    "        \n",
    "    else :\n",
    "        print(\"Invalid\")\n",
    "        \n",
    "\n",
    "# Main code\n",
    "if __name__ == \"__main__\" :\n",
    "    \n",
    "    Num = 9\n",
    "\n",
    "    # Function call\n",
    "    display(Num)\n",
    "    \n",
    "    Num = 10\n",
    "    display(Num)\n",
    "    \n",
    "    Num = 15\n",
    "    display(Num)\n",
    "\n",
    "    Num = 19\n",
    "    display(Num)\n"
   ]
  },
  {
   "cell_type": "code",
   "execution_count": null,
   "metadata": {
    "id": "SMd_DwhxXq20"
   },
   "outputs": [],
   "source": [
    "# Python program to calculate currency notes required to get the amount\n",
    "\n",
    "notes = (2000,500,200,100,50,20,10,5,2,1)\n",
    "\n",
    "amount = int(input(\"Enter Amount to be paid : \"))\n",
    "\n",
    "for C in notes:\n",
    "    count = amount//C\n",
    "    print(\"Note Value : \", C,'\\tnumber of notes ',count)\n",
    "    amount = amount%C\n"
   ]
  },
  {
   "cell_type": "code",
   "execution_count": null,
   "metadata": {
    "id": "RDqXEU5TX-Yk"
   },
   "outputs": [],
   "source": [
    "# Python program to calculate discount based on selling price\n",
    "\n",
    "rate = float(input(\"Enter Rate : \"))\n",
    "quantity = float(input(\"Enter Quantity : \"))\n",
    "\n",
    "amount = rate*quantity\n",
    "print(\"Amount = \",amount)\n",
    "\n",
    "if(amount >= 100000):\n",
    "    discount = 20\n",
    "elif(amount>=50000 and amount<=99999):\n",
    "   discount = 10\n",
    "else:\n",
    "   discount = 5\n",
    "\n",
    "discountAmount = (amount*discount)/100\n",
    "netAmt = amount - discountAmount\n",
    "\n",
    "print(\"Discount = %d%% and Discount Amount = %.2f\"%(discount,discountAmount))\n",
    "\n",
    "print(\"Net Amount = \",netAmt)\n"
   ]
  },
  {
   "cell_type": "code",
   "execution_count": null,
   "metadata": {
    "id": "GYPUnwrmjC5a"
   },
   "outputs": [],
   "source": []
  }
 ],
 "metadata": {
  "colab": {
   "authorship_tag": "ABX9TyO9bre7m90IsIbVIIU77oBA",
   "name": "3.1 Function_Question_LI .ipynb",
   "provenance": []
  },
  "kernelspec": {
   "display_name": "Python 3",
   "language": "python",
   "name": "python3"
  },
  "language_info": {
   "codemirror_mode": {
    "name": "ipython",
    "version": 3
   },
   "file_extension": ".py",
   "mimetype": "text/x-python",
   "name": "python",
   "nbconvert_exporter": "python",
   "pygments_lexer": "ipython3",
   "version": "3.8.3"
  }
 },
 "nbformat": 4,
 "nbformat_minor": 1
}
